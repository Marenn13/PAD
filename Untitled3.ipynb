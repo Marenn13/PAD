{
 "cells": [
  {
   "cell_type": "code",
   "execution_count": 4,
   "id": "775e27c1",
   "metadata": {},
   "outputs": [
    {
     "name": "stdout",
     "output_type": "stream",
     "text": [
      "masukkan  sebuah kata/kalimat :kasur ini rusak\n",
      "jumlah huruf darikasur ini rusak: 15\n",
      "karakter ke:5\n",
      "karakter ke 5 :r\n",
      "KALIMAT\n"
     ]
    }
   ],
   "source": [
    "kata= input (\"masukkan  sebuah kata/kalimat :\")\n",
    "jumKat= len (kata)\n",
    "print (\"jumlah huruf dari\" +kata+ \":\", jumKat)\n",
    "x= int (input (\"karakter ke:\"))\n",
    "print (\"karakter ke\",x,\":\"+kata [x-1])\n",
    "for i in range (jumKat):\n",
    "    kar= kata[i]\n",
    "    if kar== \" \":\n",
    "        print (\"KALIMAT\")\n",
    "        break\n",
    "    if i ==jumKat-1:\n",
    "        print (\"KATA\")\n"
   ]
  },
  {
   "cell_type": "code",
   "execution_count": 12,
   "id": "1cb2b0be",
   "metadata": {},
   "outputs": [
    {
     "ename": "SyntaxError",
     "evalue": "invalid syntax (1553897356.py, line 6)",
     "output_type": "error",
     "traceback": [
      "\u001b[1;36m  File \u001b[1;32m\"C:\\Users\\L E N O V O\\AppData\\Local\\Temp\\ipykernel_55960\\1553897356.py\"\u001b[1;36m, line \u001b[1;32m6\u001b[0m\n\u001b[1;33m    for i in range (len(kata)-1,-1,-1)\u001b[0m\n\u001b[1;37m                                      ^\u001b[0m\n\u001b[1;31mSyntaxError\u001b[0m\u001b[1;31m:\u001b[0m invalid syntax\n"
     ]
    }
   ],
   "source": []
  },
  {
   "cell_type": "code",
   "execution_count": null,
   "id": "65793c8b",
   "metadata": {},
   "outputs": [],
   "source": []
  }
 ],
 "metadata": {
  "kernelspec": {
   "display_name": "Python 3 (ipykernel)",
   "language": "python",
   "name": "python3"
  },
  "language_info": {
   "codemirror_mode": {
    "name": "ipython",
    "version": 3
   },
   "file_extension": ".py",
   "mimetype": "text/x-python",
   "name": "python",
   "nbconvert_exporter": "python",
   "pygments_lexer": "ipython3",
   "version": "3.9.13"
  }
 },
 "nbformat": 4,
 "nbformat_minor": 5
}

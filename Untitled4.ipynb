{
 "cells": [
  {
   "cell_type": "code",
   "execution_count": 7,
   "id": "619697e3",
   "metadata": {},
   "outputs": [
    {
     "name": "stdout",
     "output_type": "stream",
     "text": [
      "Input Kata : katak\n",
      "Hasil : Palindrom\n"
     ]
    }
   ],
   "source": [
    "kata = input(\"Input Kata : \")\n",
    "temp = \"\"\n",
    "#Balik Kata\n",
    "for i in range(len(kata)-1, -1, -1): \n",
    "    temp+=kata[i]\n",
    "print(\"Hasil : \", end=\"\")\n",
    "#Bandingkan Kata\n",
    "if(kata == temp):\n",
    "    print(\"Palindrom\")\n",
    "else:\n",
    "    print(\"Bukan Palindrom\")\n"
   ]
  },
  {
   "cell_type": "code",
   "execution_count": 11,
   "id": "4b72364d",
   "metadata": {},
   "outputs": [
    {
     "name": "stdout",
     "output_type": "stream",
     "text": [
      "masukkan kata :kasur ini rusak\n",
      "Hasil :PALINDROME\n"
     ]
    }
   ],
   "source": [
    "kata= input (\"masukkan kata :\")\n",
    "i= \"\"\n",
    "for a in range (len(kata)-1,-1,-1):\n",
    "    i+=kata[a]\n",
    "print (\"Hasil :\", end=\"\")\n",
    "if (kata == i):\n",
    "     print (\"PALINDROME\")\n",
    "else:\n",
    "    print (\"BUKAN PALINDROME\")"
   ]
  },
  {
   "cell_type": "code",
   "execution_count": 14,
   "id": "9b29a50e",
   "metadata": {},
   "outputs": [
    {
     "name": "stdout",
     "output_type": "stream",
     "text": [
      "Masukkan bilangan desimal: 45\n"
     ]
    },
    {
     "ename": "AttributeError",
     "evalue": "'int' object has no attribute 'append'",
     "output_type": "error",
     "traceback": [
      "\u001b[1;31m---------------------------------------------------------------------------\u001b[0m",
      "\u001b[1;31mAttributeError\u001b[0m                            Traceback (most recent call last)",
      "\u001b[1;32m~\\AppData\\Local\\Temp\\ipykernel_63384\\3579396822.py\u001b[0m in \u001b[0;36m<module>\u001b[1;34m\u001b[0m\n\u001b[0;32m      3\u001b[0m \u001b[0mj\u001b[0m \u001b[1;33m=\u001b[0m \u001b[1;36m0\u001b[0m\u001b[1;33m\u001b[0m\u001b[1;33m\u001b[0m\u001b[0m\n\u001b[0;32m      4\u001b[0m \u001b[1;32mwhile\u001b[0m \u001b[0md\u001b[0m\u001b[1;33m>\u001b[0m\u001b[1;36m0\u001b[0m\u001b[1;33m:\u001b[0m\u001b[1;33m\u001b[0m\u001b[1;33m\u001b[0m\u001b[0m\n\u001b[1;32m----> 5\u001b[1;33m     \u001b[0ma\u001b[0m\u001b[1;33m.\u001b[0m\u001b[0mappend\u001b[0m\u001b[1;33m(\u001b[0m\u001b[0md\u001b[0m\u001b[1;33m%\u001b[0m\u001b[1;36m2\u001b[0m\u001b[1;33m)\u001b[0m\u001b[1;33m\u001b[0m\u001b[1;33m\u001b[0m\u001b[0m\n\u001b[0m\u001b[0;32m      6\u001b[0m     \u001b[0md\u001b[0m\u001b[1;33m=\u001b[0m\u001b[0md\u001b[0m\u001b[1;33m//\u001b[0m\u001b[1;36m2\u001b[0m\u001b[1;33m\u001b[0m\u001b[1;33m\u001b[0m\u001b[0m\n\u001b[0;32m      7\u001b[0m     \u001b[0mj\u001b[0m \u001b[1;33m=\u001b[0m \u001b[0mj\u001b[0m\u001b[1;33m+\u001b[0m\u001b[1;36m1\u001b[0m\u001b[1;33m\u001b[0m\u001b[1;33m\u001b[0m\u001b[0m\n",
      "\u001b[1;31mAttributeError\u001b[0m: 'int' object has no attribute 'append'"
     ]
    }
   ],
   "source": [
    "d= int(input('Masukkan bilangan desimal: '))\n",
    "i = []\n",
    "j = 0\n",
    "while d>0:\n",
    "    a.append(d%2)\n",
    "    d=d//2\n",
    "    j = j+1\n",
    "print('dikonversi ke Biner: ',end='')\n",
    "for j in range(j-1,-1,-1):\n",
    "  print(i[j],end='')"
   ]
  },
  {
   "cell_type": "code",
   "execution_count": null,
   "id": "658ecefe",
   "metadata": {},
   "outputs": [],
   "source": []
  }
 ],
 "metadata": {
  "kernelspec": {
   "display_name": "Python 3 (ipykernel)",
   "language": "python",
   "name": "python3"
  },
  "language_info": {
   "codemirror_mode": {
    "name": "ipython",
    "version": 3
   },
   "file_extension": ".py",
   "mimetype": "text/x-python",
   "name": "python",
   "nbconvert_exporter": "python",
   "pygments_lexer": "ipython3",
   "version": "3.9.13"
  }
 },
 "nbformat": 4,
 "nbformat_minor": 5
}

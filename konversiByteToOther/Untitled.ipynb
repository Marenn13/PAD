{
 "cells": [
  {
   "cell_type": "code",
   "execution_count": 1,
   "id": "86295d79",
   "metadata": {},
   "outputs": [
    {
     "name": "stdout",
     "output_type": "stream",
     "text": [
      "masukkan data1204B\n",
      "Pilih Konversi :\n",
      "B ke KB,MB,GB,TB\n",
      "KB,MB,GB,TB ke B\n",
      "pilihan Anda2\n",
      "masukkan jumlah yang ingin diknversi :3\n",
      "Mau dikonversi ke:\n",
      "1. Byte\n",
      "2. Kilobyte\n",
      "3. Megabyte\n",
      "4. Gigabyte\n",
      "5. Terabyte\n",
      "Pilihan Anda :2\n",
      "3.0 MB convertion to B adalah 2.0695135815277975e-06 MB\n"
     ]
    }
   ],
   "source": [
    "#KONVERSI BYTE TO OTHER\n",
    "# MARIANA NORCE\n",
    "# 225314182\n",
    "data=(input(\"masukkan data\"))\n",
    "def ByteToOther():\n",
    "    byte=float(input(\"masukkan jumlah data :\"))\n",
    "    print(\"Mau dikonversi ke:\")\n",
    "    print(\"1. Byte\")\n",
    "    print(\"2. Megabyte\")\n",
    "    print(\"3. Gigabyte\")\n",
    "    print(\"4. Terabyte\")\n",
    "    P=int(input(\"Pilihan Anda :\"))\n",
    "    if P == 1:\n",
    "        result = byte / 1024\n",
    "        print(byte, \"B convertion to KB adalah\",result,\"KB\")\n",
    "    elif P == 2:\n",
    "        result = byte/(1204**2)\n",
    "        print(byte, \"B convertion to MB adalah\",result,\"MB\")\n",
    "    elif P == 3:\n",
    "        result = byte/(1204**3)\n",
    "        print(byte, \"B convertion to GB adalah\",result,\"GB\")\n",
    "    elif P == 4:\n",
    "        result = byte/(1204**4)\n",
    "        print(byte, \"B convertion to TB adalah\",result,\"TB\")\n",
    "    else:\n",
    "        print(\"INVALID\")\n",
    "        \n",
    "def OtherToByte():\n",
    "    value=float(input(\"masukkan jumlah yang ingin diknversi :\"))\n",
    "    print(\"Mau dikonversi ke:\")\n",
    "    print(\"1. Byte\")\n",
    "    print(\"2. Kilobyte\")\n",
    "    print(\"3. Megabyte\")\n",
    "    print(\"4. Gigabyte\")\n",
    "    print(\"5. Terabyte\")\n",
    "    P=int(input(\"Pilihan Anda :\"))\n",
    "    if P == 1:\n",
    "        result = value / 1024\n",
    "        print(value, \"KB convertion to B adalah\",result,\"KB\")\n",
    "    elif P == 2:\n",
    "        result = value/(1204**2)\n",
    "        print(value, \"MB convertion to B adalah\",result,\"MB\")\n",
    "    elif P == 3:\n",
    "        result = value/(1204**3)\n",
    "        print(velue, \"GB convertion to B adalah\",result,\"GB\")\n",
    "    elif P == 4:\n",
    "        result = value/(1204**4)\n",
    "        print(value, \"TB convertion to B adalah\",result,\"TB\")\n",
    "    else:\n",
    "        print(\"INVALID\")\n",
    "        \n",
    "print(\"Pilih Konversi :\")\n",
    "print(\"B ke KB,MB,GB,TB\")\n",
    "print(\"KB,MB,GB,TB ke B\")\n",
    "opsi = int(input(\"pilihan Anda\"))\n",
    "if opsi == 1:\n",
    "    ByteToOther()\n",
    "elif opsi == 2:\n",
    "     OtherToByte()\n",
    "else:\n",
    "    print(\"INVALID\")\n",
    "    \n",
    "    \n",
    "    \n",
    "    "
   ]
  },
  {
   "cell_type": "code",
   "execution_count": null,
   "id": "5fa46357",
   "metadata": {},
   "outputs": [],
   "source": []
  }
 ],
 "metadata": {
  "kernelspec": {
   "display_name": "Python 3 (ipykernel)",
   "language": "python",
   "name": "python3"
  },
  "language_info": {
   "codemirror_mode": {
    "name": "ipython",
    "version": 3
   },
   "file_extension": ".py",
   "mimetype": "text/x-python",
   "name": "python",
   "nbconvert_exporter": "python",
   "pygments_lexer": "ipython3",
   "version": "3.9.13"
  }
 },
 "nbformat": 4,
 "nbformat_minor": 5
}

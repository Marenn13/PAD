{
 "cells": [
  {
   "cell_type": "code",
   "execution_count": 1,
   "id": "0808f98b",
   "metadata": {},
   "outputs": [
    {
     "name": "stdout",
     "output_type": "stream",
     "text": [
      "Masukkan bilangan: 32\n",
      "Bilangan yang merupakan kelipatan 3 dari 32 :\n",
      "3 6 9 12 15 18 21 24 27 30 "
     ]
    }
   ],
   "source": [
    "#Mariana Norce\n",
    "#225314182\n",
    "# Input bilangan dari pengguna\n",
    "bilangan = int(input(\"Masukkan bilangan: \"))\n",
    "\n",
    "# Inisialisasi list untuk menyimpan kelipatan 3\n",
    "kelipatan_tiga = []\n",
    "\n",
    "# Loop dari 1 hingga bilangan-1\n",
    "for i in range(1, bilangan):\n",
    "    \n",
    "    # Cek jika bilangan merupakan kelipatan 3 dan bukan nol\n",
    "    if i % 3 == 0 and i != 0:\n",
    "        \n",
    "        # Tambahkan bilangan ke list kelipatan_tiga\n",
    "        kelipatan_tiga.append(i)\n",
    "\n",
    "# Cek jika terdapat kelipatan 3\n",
    "if len(kelipatan_tiga) > 0:\n",
    "    print(\"Bilangan yang merupakan kelipatan 3 dari\", bilangan, \":\")\n",
    "    \n",
    "    # Tampilkan kelipatan 3 yang ditemukan\n",
    "    for kelipatan in kelipatan_tiga:\n",
    "        print(kelipatan, end=\" \")\n",
    "else:\n",
    "    print(\"Tidak ada bilangan yang merupakan kelipatan 3 dari\", bilangan)\n",
    "\n"
   ]
  },
  {
   "cell_type": "code",
   "execution_count": null,
   "id": "d7d3aa32",
   "metadata": {},
   "outputs": [],
   "source": []
  }
 ],
 "metadata": {
  "kernelspec": {
   "display_name": "Python 3 (ipykernel)",
   "language": "python",
   "name": "python3"
  },
  "language_info": {
   "codemirror_mode": {
    "name": "ipython",
    "version": 3
   },
   "file_extension": ".py",
   "mimetype": "text/x-python",
   "name": "python",
   "nbconvert_exporter": "python",
   "pygments_lexer": "ipython3",
   "version": "3.9.13"
  }
 },
 "nbformat": 4,
 "nbformat_minor": 5
}

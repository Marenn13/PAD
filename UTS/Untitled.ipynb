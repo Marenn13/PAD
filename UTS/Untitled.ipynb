{
 "cells": [
  {
   "cell_type": "code",
   "execution_count": 4,
   "id": "70f8e1d6",
   "metadata": {},
   "outputs": [
    {
     "name": "stdout",
     "output_type": "stream",
     "text": [
      "Masukkan angka45\n",
      "Jumlah bit dalam bilangan heksadesimal 45 adalah: 7\n"
     ]
    }
   ],
   "source": [
    "# Mariana Norce\n",
    "# 225314182\n",
    "# menyuruh user untuk memasukan bilangan HexaDecimal\n",
    "hexadecimal= input (\"Masukkan angka\")\n",
    "\n",
    "#Mengkonversi bilangan HexaDecimal ke Binner\n",
    "binary     = bin(int(hexadecimal, 16))[2:]\n",
    "\n",
    "#Menghitung jumlah bit pada bilangan biner\n",
    "bit_hitung= len(binary)\n",
    "\n",
    "#menampilkan hasil perhitungan\n",
    "print(f\"Jumlah bit dalam bilangan heksadesimal {hexadecimal} adalah: {bit_hitung}\")\n"
   ]
  },
  {
   "cell_type": "code",
   "execution_count": null,
   "id": "66ba1782",
   "metadata": {},
   "outputs": [],
   "source": []
  }
 ],
 "metadata": {
  "kernelspec": {
   "display_name": "Python 3 (ipykernel)",
   "language": "python",
   "name": "python3"
  },
  "language_info": {
   "codemirror_mode": {
    "name": "ipython",
    "version": 3
   },
   "file_extension": ".py",
   "mimetype": "text/x-python",
   "name": "python",
   "nbconvert_exporter": "python",
   "pygments_lexer": "ipython3",
   "version": "3.9.13"
  }
 },
 "nbformat": 4,
 "nbformat_minor": 5
}

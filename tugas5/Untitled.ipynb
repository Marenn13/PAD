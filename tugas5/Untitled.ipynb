{
 "cells": [
  {
   "cell_type": "code",
   "execution_count": 10,
   "id": "d97fa075",
   "metadata": {},
   "outputs": [
    {
     "name": "stdout",
     "output_type": "stream",
     "text": [
      "Masukkan suhu : 68F\n",
      "20.0 Fahrenheit = 20.0 Celsius\n"
     ]
    }
   ],
   "source": [
    "#KONVERSI SUHU CEELCIUS KE FAHRENHEIT DAN SEBALIKNYA\n",
    "# MARIANA NORCE\n",
    "# 225314182\n",
    "def CtoF(C):\n",
    "    F = (C * 9/5) + 32\n",
    "    return F\n",
    "\n",
    "def FtoC(F):\n",
    "    C = (F - 32) * 5/9\n",
    "    return C\n",
    " \n",
    "suhu = input(\"Masukkan suhu : \")\n",
    "\n",
    "if suhu[-1] == \"C\":\n",
    "    C = float(suhu[:-1])\n",
    "    F = CtoF(C)\n",
    "    print(\"{} Celsius = {} Fahrenheit\".format(C, F))\n",
    "elif suhu[-1] == \"F\":\n",
    "    F = float(suhu[:-1])\n",
    "    F = FtoC(F)\n",
    "    print(\"{} Fahrenheit = {} Celsius\".format(F, C))\n",
    "else:\n",
    "    print(\"contoh: 5C atau 92F\")"
   ]
  },
  {
   "cell_type": "code",
   "execution_count": null,
   "id": "c650bbfa",
   "metadata": {},
   "outputs": [],
   "source": []
  },
  {
   "cell_type": "code",
   "execution_count": null,
   "id": "9951e2f6",
   "metadata": {},
   "outputs": [],
   "source": []
  }
 ],
 "metadata": {
  "kernelspec": {
   "display_name": "Python 3 (ipykernel)",
   "language": "python",
   "name": "python3"
  },
  "language_info": {
   "codemirror_mode": {
    "name": "ipython",
    "version": 3
   },
   "file_extension": ".py",
   "mimetype": "text/x-python",
   "name": "python",
   "nbconvert_exporter": "python",
   "pygments_lexer": "ipython3",
   "version": "3.9.13"
  }
 },
 "nbformat": 4,
 "nbformat_minor": 5
}

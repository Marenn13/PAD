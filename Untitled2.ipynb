{
 "cells": [
  {
   "cell_type": "code",
   "execution_count": 16,
   "id": "837859a3",
   "metadata": {},
   "outputs": [
    {
     "name": "stdout",
     "output_type": "stream",
     "text": [
      "Menghitung Luas\n",
      "1. segitiga\n",
      "2. persegi Panjang\n",
      "masukkan pilihan anda : 1\n",
      "luas Segitiga \n",
      "alas =8\n",
      "tinggi =10\n",
      "40.0\n",
      "masukkan pilihan anda : 2\n",
      "luas persegi panjang\n",
      "panjang =15\n",
      "lebar =10\n",
      "150\n",
      "masukkan pilihan anda : 3\n"
     ]
    }
   ],
   "source": [
    "    print (\"Menghitung Luas\")\n",
    "    print(\"1. segitiga\")\n",
    "    print(\"2. persegi Panjang\")\n",
    "    while True:\n",
    "        pilihan = int (input(\"masukkan pilihan anda : \"))\n",
    "        if pilihan == 1:\n",
    "            print(\"luas Segitiga \")\n",
    "            alas= int(input(\"alas =\"))\n",
    "            tinggi= int(input(\"tinggi =\"))\n",
    "            luas=  0.5*alas*tinggi\n",
    "            print (luas)\n",
    "        elif pilihan == 2: \n",
    "            print(\"luas persegi panjang\")\n",
    "            panjang= int(input(\"panjang =\"))\n",
    "            lebar= int(input(\"lebar =\"))\n",
    "            luas = panjang*lebar\n",
    "            print (luas)\n",
    "        else :\n",
    "            break\n",
    "            \n",
    "        \n",
    "            \n",
    "        \n",
    "        \n",
    " \n",
    "\n",
    "\n",
    "\n"
   ]
  },
  {
   "cell_type": "code",
   "execution_count": 21,
   "id": "d23a4d2c",
   "metadata": {},
   "outputs": [
    {
     "name": "stdout",
     "output_type": "stream",
     "text": [
      "masukkan  sebuah kata/kalimat :keram\n",
      "jumlah huruf darikeram 5\n"
     ]
    },
    {
     "ename": "NameError",
     "evalue": "name 'inut' is not defined",
     "output_type": "error",
     "traceback": [
      "\u001b[1;31m---------------------------------------------------------------------------\u001b[0m",
      "\u001b[1;31mNameError\u001b[0m                                 Traceback (most recent call last)",
      "\u001b[1;32m~\\AppData\\Local\\Temp\\ipykernel_49008\\4029223314.py\u001b[0m in \u001b[0;36m<module>\u001b[1;34m\u001b[0m\n\u001b[0;32m      2\u001b[0m \u001b[0mjumKat\u001b[0m\u001b[1;33m=\u001b[0m \u001b[0mlen\u001b[0m \u001b[1;33m(\u001b[0m\u001b[0mkata\u001b[0m\u001b[1;33m)\u001b[0m\u001b[1;33m\u001b[0m\u001b[1;33m\u001b[0m\u001b[0m\n\u001b[0;32m      3\u001b[0m \u001b[0mprint\u001b[0m \u001b[1;33m(\u001b[0m\u001b[1;34m\"jumlah huruf dari\"\u001b[0m \u001b[1;33m+\u001b[0m\u001b[0mkata\u001b[0m\u001b[1;33m+\u001b[0m \u001b[1;34m\"\"\u001b[0m\u001b[1;33m,\u001b[0m \u001b[0mjumKat\u001b[0m\u001b[1;33m)\u001b[0m\u001b[1;33m\u001b[0m\u001b[1;33m\u001b[0m\u001b[0m\n\u001b[1;32m----> 4\u001b[1;33m \u001b[0mx\u001b[0m\u001b[1;33m=\u001b[0m \u001b[0mint\u001b[0m \u001b[1;33m(\u001b[0m\u001b[0minut\u001b[0m \u001b[1;33m(\u001b[0m\u001b[1;34m\"karakter ke:\"\u001b[0m\u001b[1;33m)\u001b[0m\u001b[1;33m)\u001b[0m\u001b[1;33m\u001b[0m\u001b[1;33m\u001b[0m\u001b[0m\n\u001b[0m\u001b[0;32m      5\u001b[0m \u001b[0mprint\u001b[0m \u001b[1;33m(\u001b[0m\u001b[1;34m\"karakter ke\"\u001b[0m\u001b[1;33m,\u001b[0m\u001b[0mx\u001b[0m\u001b[1;33m-\u001b[0m\u001b[1;36m1\u001b[0m\u001b[1;33m,\u001b[0m\u001b[1;34m\"\"\u001b[0m\u001b[1;33m+\u001b[0m\u001b[0mkata\u001b[0m \u001b[1;33m[\u001b[0m\u001b[0mx\u001b[0m\u001b[1;33m]\u001b[0m\u001b[1;33m)\u001b[0m\u001b[1;33m\u001b[0m\u001b[1;33m\u001b[0m\u001b[0m\n",
      "\u001b[1;31mNameError\u001b[0m: name 'inut' is not defined"
     ]
    }
   ],
   "source": [
    "\n"
   ]
  },
  {
   "cell_type": "code",
   "execution_count": null,
   "id": "5f29ded2",
   "metadata": {},
   "outputs": [],
   "source": []
  },
  {
   "cell_type": "code",
   "execution_count": null,
   "id": "0487e262",
   "metadata": {},
   "outputs": [],
   "source": []
  }
 ],
 "metadata": {
  "kernelspec": {
   "display_name": "Python 3 (ipykernel)",
   "language": "python",
   "name": "python3"
  },
  "language_info": {
   "codemirror_mode": {
    "name": "ipython",
    "version": 3
   },
   "file_extension": ".py",
   "mimetype": "text/x-python",
   "name": "python",
   "nbconvert_exporter": "python",
   "pygments_lexer": "ipython3",
   "version": "3.9.13"
  }
 },
 "nbformat": 4,
 "nbformat_minor": 5
}

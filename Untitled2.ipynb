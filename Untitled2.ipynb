{
 "cells": [
  {
   "cell_type": "code",
   "execution_count": 1,
   "id": "474d9a79",
   "metadata": {},
   "outputs": [
    {
     "name": "stdout",
     "output_type": "stream",
     "text": [
      "banyak data :3\n",
      "banyak data :2\n",
      "banyak data :5\n",
      "banyak data :0\n",
      "[3, 2, 5]\n",
      "[3, 2, 5]\n"
     ]
    }
   ],
   "source": [
    "listku=[]\n",
    "while True:\n",
    "    data = int (input(\"banyak data :\"))\n",
    "    if data !=0:\n",
    "        listku.append(data)\n",
    "    else:\n",
    "        break\n",
    "print (listku)\n",
    "listku.sort\n",
    "print (listku)"
   ]
  },
  {
   "cell_type": "code",
   "execution_count": 3,
   "id": "7dbf0752",
   "metadata": {},
   "outputs": [
    {
     "name": "stdout",
     "output_type": "stream",
     "text": [
      "banyak data:3\n",
      "masukkan data ke-1: 5\n",
      "masukkan data ke-2: 90\n",
      "masukkan data ke-3: 76\n",
      "\n",
      "Rata-rata = 57.00\n"
     ]
    }
   ],
   "source": [
    "n=int (input(\"banyak data:\"))\n",
    "\n",
    "data = []\n",
    "jum=0\n",
    "\n",
    "for i in range (0,n):\n",
    "    temp= int (input (\"masukkan data ke-%d: \" % (i+1)))\n",
    "    data.append(temp)\n",
    "    jum += data[i]\n",
    "    rata2 = jum / n\n",
    "    \n",
    "print (\"\\nRata-rata = %0.2f\" % rata2)"
   ]
  },
  {
   "cell_type": "code",
   "execution_count": 5,
   "id": "eadec855",
   "metadata": {},
   "outputs": [
    {
     "name": "stdout",
     "output_type": "stream",
     "text": [
      "masukkan kata :aku\n",
      "masukkan kata :aku\n",
      "masukkan kata :pergi\n",
      "masukkan kata :pergi\n",
      "masukkan kata :kepasar\n",
      "masukkan kata :kepasar\n",
      "masukkan kata :\n",
      "['aku', 'aku', 'pergi', 'pergi', 'kepasar', 'kepasar']\n",
      "['aku', 'pergi', 'kepasar']\n"
     ]
    }
   ],
   "source": [
    "listku=[]\n",
    "while True:\n",
    "    kata= input (\"masukkan kata :\")\n",
    "    if kata != \"\":\n",
    "        listku.append(kata)\n",
    "    else:\n",
    "        break\n",
    "print(listku)\n",
    "listku=list(dict.fromkeys(listku))\n",
    "print(listku)\n"
   ]
  },
  {
   "cell_type": "code",
   "execution_count": 9,
   "id": "d03862fe",
   "metadata": {},
   "outputs": [
    {
     "name": "stdout",
     "output_type": "stream",
     "text": [
      "menghitung karakter :\n",
      " input Kata :hhaabbnnn\n",
      "jumlah Karaketer 4\n"
     ]
    }
   ],
   "source": [
    "print (\"menghitung karakter :\")\n",
    "listku= {}\n",
    "kata = input (\" input Kata :\")\n",
    "for i in kata:\n",
    "    if i in listku:\n",
    "        listku [i]=+1\n",
    "    else:\n",
    "        listku[i]=1\n",
    "        \n",
    "print (\"jumlah Karaketer\", len (listku))"
   ]
  },
  {
   "cell_type": "code",
   "execution_count": null,
   "id": "fa9b9111",
   "metadata": {},
   "outputs": [],
   "source": []
  }
 ],
 "metadata": {
  "kernelspec": {
   "display_name": "Python 3 (ipykernel)",
   "language": "python",
   "name": "python3"
  },
  "language_info": {
   "codemirror_mode": {
    "name": "ipython",
    "version": 3
   },
   "file_extension": ".py",
   "mimetype": "text/x-python",
   "name": "python",
   "nbconvert_exporter": "python",
   "pygments_lexer": "ipython3",
   "version": "3.9.13"
  }
 },
 "nbformat": 4,
 "nbformat_minor": 5
}
